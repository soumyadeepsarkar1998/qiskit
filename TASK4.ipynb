{
 "cells": [
  {
   "cell_type": "code",
   "execution_count": 1,
   "metadata": {},
   "outputs": [],
   "source": [
    "from qiskit import *\n",
    "import networkx as nx\n",
    "import matplotlib.pyplot as plt\n",
    "from scipy.optimize import minimize\n",
    "import random\n",
    "from qiskit.visualization import plot_histogram"
   ]
  },
  {
   "cell_type": "code",
   "execution_count": 2,
   "metadata": {},
   "outputs": [],
   "source": [
    "depth = 3\n",
    "rep = 1000"
   ]
  },
  {
   "cell_type": "code",
   "execution_count": 3,
   "metadata": {},
   "outputs": [
    {
     "data": {
      "image/png": "[encoded data removed]",
      "text/plain": [
       "<Figure size 432x288 with 1 Axes>"
      ]
     },
     "metadata": {},
     "output_type": "display_data"
    }
   ],
   "source": [
    "#defining the graph, to simulate another graph simply change the Nodes, Edges and weights\n",
    "G=nx.Graph()\n",
    "Nodes=[0,1,2,3,4]     \n",
    "Edges=[(0,1,1.0),(1,2,1.0),(2,3,1.0),(3,4,1.0)]   # Edges with theirs weights\n",
    "G.add_nodes_from(Nodes)\n",
    "G.add_weighted_edges_from(Edges)\n",
    "nx.draw(G)"
   ]
  },
  {
   "cell_type": "code",
   "execution_count": 4,
   "metadata": {},
   "outputs": [],
   "source": [
    "# this functions returns the cost unitary gate. More about this can be found in the other document in the repository.  \n",
    "def get_costunitary(gamma):\n",
    "    HC=QuantumCircuit(len(Nodes))\n",
    "    \n",
    "    for e in Edges:\n",
    "        \n",
    "        HC.cp(-2*gamma*e[2],e[0],e[1])\n",
    "        HC.p(gamma*e[2],e[0])\n",
    "        HC.p(gamma*e[2],e[1])\n",
    "        \n",
    "    CU = HC.to_gate()                                                      # converts HU circuit to gate\n",
    "    \n",
    "    return CU"
   ]
  },
  {
   "cell_type": "code",
   "execution_count": 5,
   "metadata": {},
   "outputs": [],
   "source": [
    "# this functions returns the mixer unitary gate. More about this can be found in the other document in the repository.  \n",
    "def get_mixerunitary(beta):\n",
    "    \n",
    "    HC=QuantumCircuit(len(Nodes))\n",
    "    HC.rx(2*beta,range(len(Nodes)))\n",
    "    \n",
    "    MU=HC.to_gate()\n",
    "    \n",
    "    return MU"
   ]
  },
  {
   "cell_type": "code",
   "execution_count": 6,
   "metadata": {},
   "outputs": [],
   "source": [
    "# creates the circuit and runs it, then returns the measured bits as a list of list of integers like [[1,0,1,1,1],[0,0,1,1,0],[...]]\n",
    "def create_circuit(params):\n",
    "    \n",
    "    gamma = [params[0], params[2], params[4], params[6]]\n",
    "    beta = [params[1], params[3], params[5], params[7]]\n",
    "    \n",
    "    HC=QuantumCircuit(len(Nodes), len(Nodes))\n",
    "    \n",
    "    for i in range(len(Nodes)):\n",
    "        HC.h(i)\n",
    "        \n",
    "    for i in range (depth):\n",
    "        HC.append(get_costunitary(gamma[i]),list(range(len(Nodes))))\n",
    "        HC.append(get_mixerunitary(beta[i]),list(range(len(Nodes))))\n",
    "        \n",
    "    HC.measure(range(len(Nodes)), range(len(Nodes)))\n",
    "    \n",
    "    simulate = execute(HC, backend = Aer.get_backend('qasm_simulator'), shots = rep)\n",
    "    HC_results = simulate.result().get_counts()\n",
    "    \n",
    "    return HC_results\n",
    "        \n",
    "        \n",
    "    \n",
    "    "
   ]
  },
  {
   "cell_type": "code",
   "execution_count": 7,
   "metadata": {},
   "outputs": [],
   "source": [
    "def cost_function(params):\n",
    "    \n",
    "    av = create_circuit(params)\n",
    "    bv = list(av)                                                   \n",
    "    total_cost = 0\n",
    "    for bitstring in bv:                          \n",
    "        S=list(bitstring)\n",
    "        S=list(map(int,S))                                   #converting the string of measured bits into list of integers to use in computation\n",
    "        \n",
    "        for E in Edges:\n",
    "            total_cost += 0.5*E[2]*av[bitstring]*( ( (1 - 2*S[E[0]]) * (1 - 2*S[E[1]]) ) - 1)\n",
    "            \n",
    "    total_cost = float(total_cost)/rep\n",
    "\n",
    "    return total_cost"
   ]
  },
  {
   "cell_type": "code",
   "execution_count": 8,
   "metadata": {},
   "outputs": [
    {
     "name": "stdout",
     "output_type": "stream",
     "text": [
      "     fun: -3.292\n",
      "   maxcv: 0.0\n",
      " message: 'Optimization terminated successfully.'\n",
      "    nfev: 85\n",
      "  status: 1\n",
      " success: True\n",
      "       x: array([ 0.43979558, -1.90060342, -0.28724078, -1.69385413,  1.38444687,\n",
      "       -0.32168263, -0.21162584, -1.73073067])\n"
     ]
    }
   ],
   "source": [
    "init =[float(random.randint(-314, 314))/float(100) for i in range(0, 8)]\n",
    "out = minimize(cost_function, x0=init, method=\"COBYLA\", options={'maxiter':100})\n",
    "print(out)"
   ]
  },
  {
   "cell_type": "code",
   "execution_count": 9,
   "metadata": {},
   "outputs": [],
   "source": [
    "n = create_circuit(getattr(out,'x'))"
   ]
  },
  {
   "cell_type": "code",
   "execution_count": 10,
   "metadata": {},
   "outputs": [
    {
     "data": {
      "image/png": "[encoded data removed]",
      "text/plain": [
       "<Figure size 504x360 with 1 Axes>"
      ]
     },
     "execution_count": 10,
     "metadata": {},
     "output_type": "execute_result"
    }
   ],
   "source": [
    "plot_histogram(n)"
   ]
  },
  {
   "cell_type": "code",
   "execution_count": 11,
   "metadata": {},
   "outputs": [],
   "source": [
    "# We can see above the two values of bit strings where the probabilities are the highest, the fact that the distribution is symmetric makes sense since we simulated a linear graph with the same weights."
   ]
  }
 ],
 "metadata": {
  "kernelspec": {
   "display_name": "Python 3",
   "language": "python",
   "name": "python3"
  },
  "language_info": {
   "codemirror_mode": {
    "name": "ipython",
    "version": 3
   },
   "file_extension": ".py",
   "mimetype": "text/x-python",
   "name": "python",
   "nbconvert_exporter": "python",
   "pygments_lexer": "ipython3",
   "version": "3.8.5"
  }
 },
 "nbformat": 4,
 "nbformat_minor": 4
}
